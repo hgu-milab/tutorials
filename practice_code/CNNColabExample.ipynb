{
  "nbformat": 4,
  "nbformat_minor": 0,
  "metadata": {
    "colab": {
      "name": "mnist_colab_example.ipynb",
      "provenance": [],
      "collapsed_sections": []
    },
    "kernelspec": {
      "name": "python3",
      "display_name": "Python 3"
    },
    "accelerator": "GPU"
  },
  "cells": [
    {
      "cell_type": "markdown",
      "metadata": {
        "id": "116XJaEYRQ3Y"
      },
      "source": [
        "**MNIST with CNN** \n",
        "\n",
        "\n",
        "---\n",
        "\n",
        "1. drive/My Drive/public/data/ has data\n",
        "2. drive/My Drive/public/results/ will have results\n",
        "\n",
        "\n",
        "* make sure you have images in drive/My Drive/public/data/mnist_test_images/\n"
      ]
    },
    {
      "cell_type": "markdown",
      "metadata": {
        "id": "aDCRQFBRRKKK"
      },
      "source": [
        "Mount your good drive. Check by '! ls' command"
      ]
    },
    {
      "cell_type": "code",
      "metadata": {
        "id": "tKMaVffeXykZ",
        "colab": {
          "base_uri": "https://localhost:8080/"
        },
        "outputId": "ebe7bb93-f1bf-4cdb-a88f-a60708b51be0"
      },
      "source": [
        "from google.colab import drive\n",
        "drive.mount('/content/drive')"
      ],
      "execution_count": 1,
      "outputs": [
        {
          "output_type": "stream",
          "text": [
            "Mounted at /content/drive\n"
          ],
          "name": "stdout"
        }
      ]
    },
    {
      "cell_type": "code",
      "metadata": {
        "id": "hLmAF19P21oG",
        "outputId": "50d90b1e-b931-48c6-9515-4551893d6dae",
        "colab": {
          "base_uri": "https://localhost:8080/"
        }
      },
      "source": [
        "!ls"
      ],
      "execution_count": 2,
      "outputs": [
        {
          "output_type": "stream",
          "text": [
            "drive  sample_data\n"
          ],
          "name": "stdout"
        }
      ]
    },
    {
      "cell_type": "markdown",
      "metadata": {
        "id": "0W1pOJsMQwHj"
      },
      "source": [
        "Import PyTorch library and check by printing the version information "
      ]
    },
    {
      "cell_type": "code",
      "metadata": {
        "id": "XdfRWE0OQ3Lu"
      },
      "source": [
        "import torch\n",
        "import torch.nn as nn\n",
        "import torch.nn.functional as F\n",
        "import torch.optim as optim \n",
        "\n",
        "from torchvision import datasets, transforms\n",
        "import numpy as np\n",
        "\n",
        "import warnings\n",
        "warnings.filterwarnings('ignore')\n",
        "import os"
      ],
      "execution_count": 3,
      "outputs": []
    },
    {
      "cell_type": "code",
      "metadata": {
        "id": "7J1muq8YYdte",
        "outputId": "7b50435a-c2e5-4f3a-c2e0-a6b0b6abd181",
        "colab": {
          "base_uri": "https://localhost:8080/"
        }
      },
      "source": [
        "print(torch.__version__)"
      ],
      "execution_count": 4,
      "outputs": [
        {
          "output_type": "stream",
          "text": [
            "1.9.0+cu102\n"
          ],
          "name": "stdout"
        }
      ]
    },
    {
      "cell_type": "markdown",
      "metadata": {
        "id": "ubMzsP4wQ6J3"
      },
      "source": [
        "Define your network model. We have defined simple CNN model in advance. "
      ]
    },
    {
      "cell_type": "code",
      "metadata": {
        "id": "C68qwtfiT4UF",
        "cellView": "both"
      },
      "source": [
        "class MNIST_CNN_model(nn.Module):\n",
        "    def __init__(self):\n",
        "        super(MNIST_CNN_model, self).__init__()\n",
        "        self.conv = nn.Sequential(\n",
        "            # conv layer 1\n",
        "            nn.Conv2d(1, 20, 5, 1),\n",
        "            nn.ReLU(),\n",
        "            nn.MaxPool2d(2,2),\n",
        "\n",
        "            # conv layer 2\n",
        "            nn.Conv2d(20, 50, 5, 1),\n",
        "            nn.ReLU(),\n",
        "            nn.MaxPool2d(2,2)\n",
        "        )\n",
        "        \n",
        "        conv_size = self.get_conv_size((1, 28, 28)) # tensor of a MNIST image\n",
        "        \n",
        "        self.fc = nn.Sequential(\n",
        "            nn.Linear(conv_size, 500), # conv_size = 4*4*50\n",
        "            nn.Linear(500, 10)\n",
        "        )\n",
        "    \n",
        "    def get_conv_size(self, shape):\n",
        "        o = self.conv(torch.zeros(1, *shape))\n",
        "        return int(np.prod(o.size()))\n",
        "\n",
        "    def forward(self, x):\n",
        "        batch_size, c, h, w = x.data.size() # 32*1*28*28\n",
        "        x = self.conv(x)\n",
        "        x = x.view(batch_size, -1) # conv_size = 4*4*50\n",
        "        x = self.fc(x)\n",
        "        return F.log_softmax(x, dim=1)\n"
      ],
      "execution_count": 5,
      "outputs": []
    },
    {
      "cell_type": "code",
      "metadata": {
        "id": "T6VwiTSxfaRY",
        "outputId": "35ac1dba-3748-43a7-a1f6-adc4c236c838",
        "colab": {
          "base_uri": "https://localhost:8080/"
        }
      },
      "source": [
        "model = MNIST_CNN_model()\n",
        "print(model)"
      ],
      "execution_count": 6,
      "outputs": [
        {
          "output_type": "stream",
          "text": [
            "MNIST_CNN_model(\n",
            "  (conv): Sequential(\n",
            "    (0): Conv2d(1, 20, kernel_size=(5, 5), stride=(1, 1))\n",
            "    (1): ReLU()\n",
            "    (2): MaxPool2d(kernel_size=2, stride=2, padding=0, dilation=1, ceil_mode=False)\n",
            "    (3): Conv2d(20, 50, kernel_size=(5, 5), stride=(1, 1))\n",
            "    (4): ReLU()\n",
            "    (5): MaxPool2d(kernel_size=2, stride=2, padding=0, dilation=1, ceil_mode=False)\n",
            "  )\n",
            "  (fc): Sequential(\n",
            "    (0): Linear(in_features=800, out_features=500, bias=True)\n",
            "    (1): Linear(in_features=500, out_features=10, bias=True)\n",
            "  )\n",
            ")\n"
          ],
          "name": "stdout"
        }
      ]
    },
    {
      "cell_type": "markdown",
      "metadata": {
        "id": "_KB1pn1qRG-K"
      },
      "source": [
        "Load MNIST datset "
      ]
    },
    {
      "cell_type": "code",
      "metadata": {
        "id": "YHYgekGqT7jd"
      },
      "source": [
        "batch_size = 32\n",
        "test_batch_size = 1000\n",
        "kwargs = {'num_workers': 1, 'pin_memory': True} if torch.cuda.is_available() else {}\n",
        "\n",
        "transform=transforms.Compose([\n",
        "   transforms.ToTensor(),\n",
        "   transforms.Normalize((0.1307,), (0.3081,)) ])\n",
        "\n",
        "train_dataset = datasets.MNIST('drive/My Drive/public/data', train=True, \n",
        "    download=True, transform=transform)\n",
        "train_loader = torch.utils.data.DataLoader(train_dataset,\n",
        "    batch_size=batch_size, shuffle=True, **kwargs)\n",
        "\n",
        "test_dataset = datasets.MNIST('drive/My Drive/public/data', train=False, \n",
        "                   transform=transform)\n",
        "test_loader = torch.utils.data.DataLoader(test_dataset,\n",
        "    batch_size=test_batch_size, shuffle=True, **kwargs)"
      ],
      "execution_count": 7,
      "outputs": []
    },
    {
      "cell_type": "code",
      "metadata": {
        "id": "RaSRz6qLZNap",
        "outputId": "f915b339-b857-48dc-91f4-d495f6773620",
        "colab": {
          "base_uri": "https://localhost:8080/"
        }
      },
      "source": [
        "for batch, (data, target) in enumerate(train_loader):\n",
        "  print('data shape: ', data.shape)\n",
        "  print('target shape: ', target.shape)\n",
        "  break"
      ],
      "execution_count": 8,
      "outputs": [
        {
          "output_type": "stream",
          "text": [
            "data shape:  torch.Size([32, 1, 28, 28])\n",
            "target shape:  torch.Size([32])\n"
          ],
          "name": "stdout"
        }
      ]
    },
    {
      "cell_type": "code",
      "metadata": {
        "id": "drnwtS8MRCia"
      },
      "source": [
        "def train(model, device, train_loader, optimizer, epoch, log_interval):\n",
        "    model.train()\n",
        "    for batch_idx, (data, target) in enumerate(train_loader):\n",
        "        data, target = data.to(device), target.to(device)\n",
        "        optimizer.zero_grad()\n",
        "        output = model(data)\n",
        "        loss = F.nll_loss(output, target)\n",
        "        loss.backward()\n",
        "        optimizer.step()\n",
        "        \n",
        "        if batch_idx % log_interval == 0:\n",
        "            print('Train Epoch: {} [{}/{} ({:.0f}%)]\\tLoss: {:.6f}'.format(\n",
        "                epoch, batch_idx * len(data), len(train_loader.dataset),\n",
        "                100. * batch_idx / len(train_loader), loss.item()))\n",
        "\n",
        "def test(model, device, test_loader):\n",
        "    model.eval()\n",
        "    test_loss = 0\n",
        "    correct = 0\n",
        "    with torch.no_grad():\n",
        "        for data, target in test_loader:\n",
        "            data, target = data.to(device), target.to(device)\n",
        "            output = model(data)\n",
        "            \n",
        "            # sum up batch loss\n",
        "            test_loss += F.nll_loss(output, target, reduction='sum').item()  \n",
        "\n",
        "            # get the index of the max log-probability\n",
        "            pred = output.argmax(dim=1, keepdim=True)                        \n",
        "            correct += pred.eq(target.view_as(pred)).sum().item()\n",
        "\n",
        "    test_loss /= len(test_loader.dataset)\n",
        "\n",
        "    print('\\nTest: Average loss: {:.4f}, Accuracy: {}/{} ({:.0f}%)\\n'.format(\n",
        "        test_loss, correct, len(test_loader.dataset),\n",
        "        100. * correct / len(test_loader.dataset)))"
      ],
      "execution_count": 9,
      "outputs": []
    },
    {
      "cell_type": "markdown",
      "metadata": {
        "id": "N7bMwt6TeoXS"
      },
      "source": [
        "Define hyper-parameters for training. Then define model and optimizer\n"
      ]
    },
    {
      "cell_type": "code",
      "metadata": {
        "id": "wBg3C8pLeglC"
      },
      "source": [
        "seed = 1\n",
        "epochs = 1\n",
        "lr = 0.001\n",
        "momentum = 0.9\n",
        "log_interval = 100\n",
        "save_model = True\n",
        "\n",
        "torch.manual_seed(seed)\n",
        "\n",
        "device = torch.device(\"cuda\" if torch.cuda.is_available() else \"cpu\")\n",
        "model = model.to(device)\n",
        "optimizer = optim.SGD(model.parameters(), lr=lr, momentum=momentum)"
      ],
      "execution_count": 10,
      "outputs": []
    },
    {
      "cell_type": "markdown",
      "metadata": {
        "id": "RgwzAoEyfKJ1"
      },
      "source": [
        "Train the model by running training loop"
      ]
    },
    {
      "cell_type": "code",
      "metadata": {
        "id": "buSNg0VTZFG9",
        "outputId": "480161c8-8454-4310-acbb-0a1e82347d81",
        "colab": {
          "base_uri": "https://localhost:8080/"
        }
      },
      "source": [
        "for epoch in range(1, epochs + 1):\n",
        "    train(model, device, train_loader, optimizer, epoch, log_interval)\n",
        "    test(model, device, test_loader)\n",
        "\n",
        "if (save_model):\n",
        "    if not os.path.exists('drive/My Drive/public/results'):\n",
        "        os.mkdir('drive/My Drive/public/results')\n",
        "    torch.save(model,\"drive/My Drive/public/results/mnist_cnn.pth\")"
      ],
      "execution_count": 11,
      "outputs": [
        {
          "output_type": "stream",
          "text": [
            "Train Epoch: 1 [0/60000 (0%)]\tLoss: 2.270011\n",
            "Train Epoch: 1 [3200/60000 (5%)]\tLoss: 1.122234\n",
            "Train Epoch: 1 [6400/60000 (11%)]\tLoss: 0.344270\n",
            "Train Epoch: 1 [9600/60000 (16%)]\tLoss: 0.315768\n",
            "Train Epoch: 1 [12800/60000 (21%)]\tLoss: 0.089297\n",
            "Train Epoch: 1 [16000/60000 (27%)]\tLoss: 0.461053\n",
            "Train Epoch: 1 [19200/60000 (32%)]\tLoss: 0.198120\n",
            "Train Epoch: 1 [22400/60000 (37%)]\tLoss: 0.335903\n",
            "Train Epoch: 1 [25600/60000 (43%)]\tLoss: 0.342060\n",
            "Train Epoch: 1 [28800/60000 (48%)]\tLoss: 0.138001\n",
            "Train Epoch: 1 [32000/60000 (53%)]\tLoss: 0.080668\n",
            "Train Epoch: 1 [35200/60000 (59%)]\tLoss: 0.077281\n",
            "Train Epoch: 1 [38400/60000 (64%)]\tLoss: 0.192091\n",
            "Train Epoch: 1 [41600/60000 (69%)]\tLoss: 0.044424\n",
            "Train Epoch: 1 [44800/60000 (75%)]\tLoss: 0.030723\n",
            "Train Epoch: 1 [48000/60000 (80%)]\tLoss: 0.011970\n",
            "Train Epoch: 1 [51200/60000 (85%)]\tLoss: 0.076489\n",
            "Train Epoch: 1 [54400/60000 (91%)]\tLoss: 0.125510\n",
            "Train Epoch: 1 [57600/60000 (96%)]\tLoss: 0.067922\n",
            "\n",
            "Test: Average loss: 0.0949, Accuracy: 9702/10000 (97%)\n",
            "\n"
          ],
          "name": "stdout"
        }
      ]
    },
    {
      "cell_type": "code",
      "metadata": {
        "id": "ZnyXsSpK3R7r",
        "outputId": "744252eb-5ccb-49d0-9fae-04f98babe532",
        "colab": {
          "base_uri": "https://localhost:8080/"
        }
      },
      "source": [
        "!ls \"drive/My Drive/public/results\""
      ],
      "execution_count": 16,
      "outputs": [
        {
          "output_type": "stream",
          "text": [
            "mnist_cnn.pth  mnist_nn.pth\n"
          ],
          "name": "stdout"
        }
      ]
    },
    {
      "cell_type": "markdown",
      "metadata": {
        "id": "Rlw8tSjHYwUZ"
      },
      "source": [
        "After Training\n",
        "* load the trained model\n",
        "* test with one image or with one directory"
      ]
    },
    {
      "cell_type": "code",
      "metadata": {
        "id": "e6QiMXtUIm3N"
      },
      "source": [
        "load_model = torch.load(\"drive/My Drive/public/results/mnist_cnn.pth\")"
      ],
      "execution_count": 13,
      "outputs": []
    },
    {
      "cell_type": "code",
      "metadata": {
        "id": "9PMm5LUaJGGa",
        "outputId": "29c53cc8-f405-4129-ad6e-220a151da3bd",
        "colab": {
          "base_uri": "https://localhost:8080/",
          "height": 299
        }
      },
      "source": [
        "from skimage import io\n",
        "import matplotlib.pyplot as plt\n",
        "\n",
        "img_name = 'drive/My Drive/public/data/mnist_test_images/test_0.jpg'\n",
        "test_img = io.imread(img_name).reshape(28,28)\n",
        "test_data = transform(test_img).view(1,1,28,28).to(device)\n",
        "fig = plt.figure\n",
        "plt.imshow(test_img, cmap='gray')\n",
        "with torch.no_grad():\n",
        "  output=load_model(test_data)\n",
        "print('Model prediction: ', output.argmax(dim=1).cpu().numpy()[0])\n",
        "plt.show()\n",
        "print(' ')"
      ],
      "execution_count": 19,
      "outputs": [
        {
          "output_type": "stream",
          "text": [
            "Model prediction:  7\n"
          ],
          "name": "stdout"
        },
        {
          "output_type": "display_data",
          "data": {
            "image/png": "[encoded data removed]",
            "text/plain": [
              "<Figure size 432x288 with 1 Axes>"
            ]
          },
          "metadata": {
            "tags": [],
            "needs_background": "light"
          }
        },
        {
          "output_type": "stream",
          "text": [
            " \n"
          ],
          "name": "stdout"
        }
      ]
    },
    {
      "cell_type": "code",
      "metadata": {
        "id": "KIgQ9phHTXua",
        "outputId": "8ffb2714-7053-47ca-d639-d8a8d16c723c",
        "colab": {
          "base_uri": "https://localhost:8080/",
          "height": 1000
        }
      },
      "source": [
        "from skimage import io\n",
        "import glob\n",
        "import matplotlib.pyplot as plt\n",
        "\n",
        "file_list = glob.glob(\"drive/My Drive/public/data/mnist_test_images/*.*\")\n",
        "for img_name in file_list:\n",
        "  test_img = io.imread(img_name).reshape(28,28)\n",
        "  test_data = transform(test_img).view(1,1,28,28).to(device)\n",
        "  fig = plt.figure\n",
        "  plt.imshow(test_img, cmap='gray')\n",
        "  with torch.no_grad():\n",
        "    output=load_model(test_data)\n",
        "  print('Model prediction: ', output.argmax(dim=1).cpu().numpy()[0])\n",
        "  plt.show()\n",
        "  print(' ')"
      ],
      "execution_count": 20,
      "outputs": [
        {
          "output_type": "stream",
          "text": [
            "Model prediction:  4\n"
          ],
          "name": "stdout"
        },
        {
          "output_type": "display_data",
          "data": {
            "image/png": "[encoded data removed]",
            "text/plain": [
              "<Figure size 432x288 with 1 Axes>"
            ]
          },
          "metadata": {
            "tags": [],
            "needs_background": "light"
          }
        },
        {
          "output_type": "stream",
          "text": [
            " \n",
            "Model prediction:  5\n"
          ],
          "name": "stdout"
        },
        {
          "output_type": "display_data",
          "data": {
            "image/png": "[encoded data removed]",
            "text/plain": [
              "<Figure size 432x288 with 1 Axes>"
            ]
          },
          "metadata": {
            "tags": [],
            "needs_background": "light"
          }
        },
        {
          "output_type": "stream",
          "text": [
            " \n",
            "Model prediction:  1\n"
          ],
          "name": "stdout"
        },
        {
          "output_type": "display_data",
          "data": {
            "image/png": "[encoded data removed]",
            "text/plain": [
              "<Figure size 432x288 with 1 Axes>"
            ]
          },
          "metadata": {
            "tags": [],
            "needs_background": "light"
          }
        },
        {
          "output_type": "stream",
          "text": [
            " \n",
            "Model prediction:  9\n"
          ],
          "name": "stdout"
        },
        {
          "output_type": "display_data",
          "data": {
            "image/png": "[encoded data removed]",
            "text/plain": [
              "<Figure size 432x288 with 1 Axes>"
            ]
          },
          "metadata": {
            "tags": [],
            "needs_background": "light"
          }
        },
        {
          "output_type": "stream",
          "text": [
            " \n",
            "Model prediction:  0\n"
          ],
          "name": "stdout"
        },
        {
          "output_type": "display_data",
          "data": {
            "image/png": "[encoded data removed]",
            "text/plain": [
              "<Figure size 432x288 with 1 Axes>"
            ]
          },
          "metadata": {
            "tags": [],
            "needs_background": "light"
          }
        },
        {
          "output_type": "stream",
          "text": [
            " \n",
            "Model prediction:  4\n"
          ],
          "name": "stdout"
        },
        {
          "output_type": "display_data",
          "data": {
            "image/png": "[encoded data removed]",
            "text/plain": [
              "<Figure size 432x288 with 1 Axes>"
            ]
          },
          "metadata": {
            "tags": [],
            "needs_background": "light"
          }
        },
        {
          "output_type": "stream",
          "text": [
            " \n",
            "Model prediction:  1\n"
          ],
          "name": "stdout"
        },
        {
          "output_type": "display_data",
          "data": {
            "image/png": "[encoded data removed]",
            "text/plain": [
              "<Figure size 432x288 with 1 Axes>"
            ]
          },
          "metadata": {
            "tags": [],
            "needs_background": "light"
          }
        },
        {
          "output_type": "stream",
          "text": [
            " \n",
            "Model prediction:  9\n"
          ],
          "name": "stdout"
        },
        {
          "output_type": "display_data",
          "data": {
            "image/png": "[encoded data removed]",
            "text/plain": [
              "<Figure size 432x288 with 1 Axes>"
            ]
          },
          "metadata": {
            "tags": [],
            "needs_background": "light"
          }
        },
        {
          "output_type": "stream",
          "text": [
            " \n",
            "Model prediction:  3\n"
          ],
          "name": "stdout"
        },
        {
          "output_type": "display_data",
          "data": {
            "image/png": "[encoded data removed]",
            "text/plain": [
              "<Figure size 432x288 with 1 Axes>"
            ]
          },
          "metadata": {
            "tags": [],
            "needs_background": "light"
          }
        },
        {
          "output_type": "stream",
          "text": [
            " \n",
            "Model prediction:  1\n"
          ],
          "name": "stdout"
        },
        {
          "output_type": "display_data",
          "data": {
            "image/png": "[encoded data removed]",
            "text/plain": [
              "<Figure size 432x288 with 1 Axes>"
            ]
          },
          "metadata": {
            "tags": [],
            "needs_background": "light"
          }
        },
        {
          "output_type": "stream",
          "text": [
            " \n",
            "Model prediction:  0\n"
          ],
          "name": "stdout"
        },
        {
          "output_type": "display_data",
          "data": {
            "image/png": "[encoded data removed]",
            "text/plain": [
              "<Figure size 432x288 with 1 Axes>"
            ]
          },
          "metadata": {
            "tags": [],
            "needs_background": "light"
          }
        },
        {
          "output_type": "stream",
          "text": [
            " \n",
            "Model prediction:  9\n"
          ],
          "name": "stdout"
        },
        {
          "output_type": "display_data",
          "data": {
            "image/png": "[encoded data removed]",
            "text/plain": [
              "<Figure size 432x288 with 1 Axes>"
            ]
          },
          "metadata": {
            "tags": [],
            "needs_background": "light"
          }
        },
        {
          "output_type": "stream",
          "text": [
            " \n",
            "Model prediction:  9\n"
          ],
          "name": "stdout"
        },
        {
          "output_type": "display_data",
          "data": {
            "image/png": "[encoded data removed]",
            "text/plain": [
              "<Figure size 432x288 with 1 Axes>"
            ]
          },
          "metadata": {
            "tags": [],
            "needs_background": "light"
          }
        },
        {
          "output_type": "stream",
          "text": [
            " \n",
            "Model prediction:  6\n"
          ],
          "name": "stdout"
        },
        {
          "output_type": "display_data",
          "data": {
            "image/png": "[encoded data removed]",
            "text/plain": [
              "<Figure size 432x288 with 1 Axes>"
            ]
          },
          "metadata": {
            "tags": [],
            "needs_background": "light"
          }
        },
        {
          "output_type": "stream",
          "text": [
            " \n",
            "Model prediction:  5\n"
          ],
          "name": "stdout"
        },
        {
          "output_type": "display_data",
          "data": {
            "image/png": "[encoded data removed]",
            "text/plain": [
              "<Figure size 432x288 with 1 Axes>"
            ]
          },
          "metadata": {
            "tags": [],
            "needs_background": "light"
          }
        },
        {
          "output_type": "stream",
          "text": [
            " \n",
            "Model prediction:  0\n"
          ],
          "name": "stdout"
        },
        {
          "output_type": "display_data",
          "data": {
            "image/png": "[encoded data removed]",
            "text/plain": [
              "<Figure size 432x288 with 1 Axes>"
            ]
          },
          "metadata": {
            "tags": [],
            "needs_background": "light"
          }
        },
        {
          "output_type": "stream",
          "text": [
            " \n",
            "Model prediction:  7\n"
          ],
          "name": "stdout"
        },
        {
          "output_type": "display_data",
          "data": {
            "image/png": "[encoded data removed]",
            "text/plain": [
              "<Figure size 432x288 with 1 Axes>"
            ]
          },
          "metadata": {
            "tags": [],
            "needs_background": "light"
          }
        },
        {
          "output_type": "stream",
          "text": [
            " \n",
            "Model prediction:  2\n"
          ],
          "name": "stdout"
        },
        {
          "output_type": "display_data",
          "data": {
            "image/png": "[encoded data removed]",
            "text/plain": [
              "<Figure size 432x288 with 1 Axes>"
            ]
          },
          "metadata": {
            "tags": [],
            "needs_background": "light"
          }
        },
        {
          "output_type": "stream",
          "text": [
            " \n",
            "Model prediction:  7\n"
          ],
          "name": "stdout"
        },
        {
          "output_type": "display_data",
          "data": {
            "image/png": "[encoded data removed]",
            "text/plain": [
              "<Figure size 432x288 with 1 Axes>"
            ]
          },
          "metadata": {
            "tags": [],
            "needs_background": "light"
          }
        },
        {
          "output_type": "stream",
          "text": [
            " \n"
          ],
          "name": "stdout"
        }
      ]
    },
    {
      "cell_type": "markdown",
      "metadata": {
        "id": "lchBllx1JpBr"
      },
      "source": [
        "the end! \n",
        "----"
      ]
    }
  ]
}