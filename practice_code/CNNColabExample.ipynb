{
  "nbformat": 4,
  "nbformat_minor": 0,
  "metadata": {
    "colab": {
      "name": "mnist_colab_example.ipynb",
      "provenance": [],
      "collapsed_sections": [],
      "toc_visible": true
    },
    "kernelspec": {
      "name": "python3",
      "display_name": "Python 3"
    },
    "accelerator": "GPU"
  },
  "cells": [
    {
      "cell_type": "markdown",
      "metadata": {
        "id": "116XJaEYRQ3Y"
      },
      "source": [
        "**MNIST with CNN** \n",
        "\n",
        "\n",
        "---\n",
        "\n",
        "1. drive/My Drive/public/data/ has data\n",
        "2. drive/My Drive/public/results/ will have results\n",
        "\n",
        "\n",
        "* make sure you have images in drive/My Drive/public/data/mnist_test_images/\n"
      ]
    },
    {
      "cell_type": "markdown",
      "metadata": {
        "id": "aDCRQFBRRKKK"
      },
      "source": [
        "Mount your good drive. Check by '! ls' command"
      ]
    },
    {
      "cell_type": "code",
      "metadata": {
        "id": "tKMaVffeXykZ",
        "colab": {
          "base_uri": "https://localhost:8080/",
          "height": 125
        },
        "outputId": "f2eabd13-bdc9-459e-fffd-f22f2c958570"
      },
      "source": [
        "from google.colab import drive\n",
        "drive.mount('/content/drive')"
      ],
      "execution_count": null,
      "outputs": [
        {
          "output_type": "stream",
          "text": [
            "Go to this URL in a browser: https://accounts.google.com/o/oauth2/auth?client_id=947318989803-6bn6qk8qdgf4n4g3pfee6491hc0brc4i.apps.googleusercontent.com&redirect_uri=urn%3aietf%3awg%3aoauth%3a2.0%3aoob&response_type=code&scope=email%20https%3a%2f%2fwww.googleapis.com%2fauth%2fdocs.test%20https%3a%2f%2fwww.googleapis.com%2fauth%2fdrive%20https%3a%2f%2fwww.googleapis.com%2fauth%2fdrive.photos.readonly%20https%3a%2f%2fwww.googleapis.com%2fauth%2fpeopleapi.readonly\n",
            "\n",
            "Enter your authorization code:\n",
            "··········\n",
            "Mounted at /content/drive\n"
          ],
          "name": "stdout"
        }
      ]
    },
    {
      "cell_type": "code",
      "metadata": {
        "id": "hLmAF19P21oG"
      },
      "source": [
        "!ls"
      ],
      "execution_count": null,
      "outputs": []
    },
    {
      "cell_type": "markdown",
      "metadata": {
        "id": "0W1pOJsMQwHj"
      },
      "source": [
        "Import PyTorch library and check by printing the version information "
      ]
    },
    {
      "cell_type": "code",
      "metadata": {
        "id": "XdfRWE0OQ3Lu"
      },
      "source": [
        "import torch\n",
        "import torch.nn as nn\n",
        "import torch.nn.functional as F\n",
        "import torch.optim as optim \n",
        "\n",
        "from torchvision import datasets, transforms\n",
        "import numpy as np\n",
        "\n",
        "import warnings\n",
        "warnings.filterwarnings('ignore')\n",
        "import os"
      ],
      "execution_count": null,
      "outputs": []
    },
    {
      "cell_type": "code",
      "metadata": {
        "id": "7J1muq8YYdte"
      },
      "source": [
        "print(torch.__version__)"
      ],
      "execution_count": null,
      "outputs": []
    },
    {
      "cell_type": "markdown",
      "metadata": {
        "id": "ubMzsP4wQ6J3"
      },
      "source": [
        "Define your network model. We have defined simple CNN model in advance. "
      ]
    },
    {
      "cell_type": "code",
      "metadata": {
        "id": "C68qwtfiT4UF",
        "cellView": "both"
      },
      "source": [
        "class MNIST_CNN_model(nn.Module):\n",
        "    def __init__(self):\n",
        "        super(MNIST_CNN_model, self).__init__()\n",
        "        self.conv = nn.Sequential(\n",
        "            # conv layer 1\n",
        "            nn.Conv2d(1, 20, 5, 1),\n",
        "            nn.ReLU(),\n",
        "            nn.MaxPool2d(2,2),\n",
        "\n",
        "            # conv layer 2\n",
        "            nn.Conv2d(20, 50, 5, 1),\n",
        "            nn.ReLU(),\n",
        "            nn.MaxPool2d(2,2)\n",
        "        )\n",
        "        \n",
        "        conv_size = self.get_conv_size((1, 28, 28)) # tensor of a MNIST image\n",
        "        \n",
        "        self.fc = nn.Sequential(\n",
        "            nn.Linear(conv_size, 500), # conv_size = 4*4*50\n",
        "            nn.Linear(500, 10)\n",
        "        )\n",
        "    \n",
        "    def get_conv_size(self, shape):\n",
        "        o = self.conv(torch.zeros(1, *shape))\n",
        "        return int(np.prod(o.size()))\n",
        "\n",
        "    def forward(self, x):\n",
        "        batch_size, c, h, w = x.data.size() # 32*1*28*28\n",
        "        x = self.conv(x)\n",
        "        x = x.view(batch_size, -1) # conv_size = 4*4*50\n",
        "        x = self.fc(x)\n",
        "        return F.log_softmax(x, dim=1)\n"
      ],
      "execution_count": null,
      "outputs": []
    },
    {
      "cell_type": "code",
      "metadata": {
        "id": "T6VwiTSxfaRY"
      },
      "source": [
        "model = MNIST_CNN_model()\n",
        "print(model)"
      ],
      "execution_count": null,
      "outputs": []
    },
    {
      "cell_type": "markdown",
      "metadata": {
        "id": "_KB1pn1qRG-K"
      },
      "source": [
        "Load MNIST datset "
      ]
    },
    {
      "cell_type": "code",
      "metadata": {
        "id": "YHYgekGqT7jd"
      },
      "source": [
        "batch_size = 32\n",
        "test_batch_size = 1000\n",
        "kwargs = {'num_workers': 1, 'pin_memory': True} if torch.cuda.is_available() else {}\n",
        "\n",
        "transform=transforms.Compose([\n",
        "   transforms.ToTensor(),\n",
        "   transforms.Normalize((0.1307,), (0.3081,)) ])\n",
        "\n",
        "train_dataset = datasets.MNIST('drive/My Drive/public/data', train=True, \n",
        "    download=True, transform=transform)\n",
        "train_loader = torch.utils.data.DataLoader(train_dataset,\n",
        "    batch_size=batch_size, shuffle=True, **kwargs)\n",
        "\n",
        "test_dataset = datasets.MNIST('drive/My Drive/public/data', train=False, \n",
        "                   transform=transform)\n",
        "test_loader = torch.utils.data.DataLoader(test_dataset,\n",
        "    batch_size=test_batch_size, shuffle=True, **kwargs)"
      ],
      "execution_count": null,
      "outputs": []
    },
    {
      "cell_type": "code",
      "metadata": {
        "id": "RaSRz6qLZNap"
      },
      "source": [
        "for batch, (data, target) in enumerate(train_loader):\n",
        "  print('data shape: ', data.shape)\n",
        "  print('target shape: ', target.shape)\n",
        "  break"
      ],
      "execution_count": null,
      "outputs": []
    },
    {
      "cell_type": "code",
      "metadata": {
        "id": "drnwtS8MRCia"
      },
      "source": [
        "def train(model, device, train_loader, optimizer, epoch, log_interval):\n",
        "    model.train()\n",
        "    for batch_idx, (data, target) in enumerate(train_loader):\n",
        "        data, target = data.to(device), target.to(device)\n",
        "        optimizer.zero_grad()\n",
        "        output = model(data)\n",
        "        loss = F.nll_loss(output, target)\n",
        "        loss.backward()\n",
        "        optimizer.step()\n",
        "        \n",
        "        if batch_idx % log_interval == 0:\n",
        "            print('Train Epoch: {} [{}/{} ({:.0f}%)]\\tLoss: {:.6f}'.format(\n",
        "                epoch, batch_idx * len(data), len(train_loader.dataset),\n",
        "                100. * batch_idx / len(train_loader), loss.item()))\n",
        "\n",
        "def test(model, device, test_loader):\n",
        "    model.eval()\n",
        "    test_loss = 0\n",
        "    correct = 0\n",
        "    with torch.no_grad():\n",
        "        for data, target in test_loader:\n",
        "            data, target = data.to(device), target.to(device)\n",
        "            output = model(data)\n",
        "            \n",
        "            # sum up batch loss\n",
        "            test_loss += F.nll_loss(output, target, reduction='sum').item()  \n",
        "\n",
        "            # get the index of the max log-probability\n",
        "            pred = output.argmax(dim=1, keepdim=True)                        \n",
        "            correct += pred.eq(target.view_as(pred)).sum().item()\n",
        "\n",
        "    test_loss /= len(test_loader.dataset)\n",
        "\n",
        "    print('\\nTest: Average loss: {:.4f}, Accuracy: {}/{} ({:.0f}%)\\n'.format(\n",
        "        test_loss, correct, len(test_loader.dataset),\n",
        "        100. * correct / len(test_loader.dataset)))"
      ],
      "execution_count": null,
      "outputs": []
    },
    {
      "cell_type": "markdown",
      "metadata": {
        "id": "N7bMwt6TeoXS"
      },
      "source": [
        "Define hyper-parameters for training. Then define model and optimizer\n"
      ]
    },
    {
      "cell_type": "code",
      "metadata": {
        "id": "wBg3C8pLeglC"
      },
      "source": [
        "seed = 1\n",
        "epochs = 1\n",
        "lr = 0.001\n",
        "momentum = 0.9\n",
        "log_interval = 100\n",
        "save_model = True\n",
        "\n",
        "torch.manual_seed(seed)\n",
        "\n",
        "device = torch.device(\"cuda\" if torch.cuda.is_available() else \"cpu\")\n",
        "model = model.to(device)\n",
        "optimizer = optim.SGD(model.parameters(), lr=lr, momentum=momentum)"
      ],
      "execution_count": null,
      "outputs": []
    },
    {
      "cell_type": "markdown",
      "metadata": {
        "id": "RgwzAoEyfKJ1"
      },
      "source": [
        "Train the model by running training loop"
      ]
    },
    {
      "cell_type": "code",
      "metadata": {
        "id": "buSNg0VTZFG9"
      },
      "source": [
        "for epoch in range(1, epochs + 1):\n",
        "    train(model, device, train_loader, optimizer, epoch, log_interval)\n",
        "    test(model, device, test_loader)\n",
        "\n",
        "if (save_model):\n",
        "    if not os.path.exists('drive/My Drive/public/results'):\n",
        "        os.mkdir('drive/My Drive/public/results')\n",
        "    torch.save(model,\"drive/My Drive/public/results/mnist_cnn.pth\")"
      ],
      "execution_count": null,
      "outputs": []
    },
    {
      "cell_type": "code",
      "metadata": {
        "id": "ZnyXsSpK3R7r"
      },
      "source": [
        "!ls \"drive/My Drive/public/results\""
      ],
      "execution_count": null,
      "outputs": []
    },
    {
      "cell_type": "markdown",
      "metadata": {
        "id": "Rlw8tSjHYwUZ"
      },
      "source": [
        "After Training\n",
        "* load the trained model\n",
        "* test with one image or with one directory"
      ]
    },
    {
      "cell_type": "code",
      "metadata": {
        "id": "e6QiMXtUIm3N"
      },
      "source": [
        "load_model = torch.load(\"drive/My Drive/public/results/mnist_cnn.pth\")"
      ],
      "execution_count": null,
      "outputs": []
    },
    {
      "cell_type": "code",
      "metadata": {
        "id": "9PMm5LUaJGGa"
      },
      "source": [
        "from skimage import io\n",
        "\n",
        "img_name = 'drive/My Drive/public/data/mnist_test_images/test_0.jpg'\n",
        "test_img = io.imread(img_name).reshape(28,28)\n",
        "test_data = transform(test_img).view(1,1,28,28).to(device)\n",
        "with torch.no_grad():\n",
        "  output=load_model(test_data)\n",
        "print(img_name, output.argmax(dim=1).cpu().numpy()[0])"
      ],
      "execution_count": null,
      "outputs": []
    },
    {
      "cell_type": "code",
      "metadata": {
        "id": "KIgQ9phHTXua"
      },
      "source": [
        "from skimage import io\n",
        "import glob\n",
        "\n",
        "file_list = glob.glob(\"drive/My Drive/public/data/mnist_test_images/*.*\")\n",
        "for img_name in file_list:\n",
        "  test_img = io.imread(img_name).reshape(28,28)\n",
        "  test_data = transform(test_img).view(1,1,28,28).to(device)\n",
        "  with torch.no_grad():\n",
        "    output=load_model(test_data)\n",
        "  print(img_name, output.argmax(dim=1).cpu().numpy()[0])"
      ],
      "execution_count": null,
      "outputs": []
    },
    {
      "cell_type": "markdown",
      "metadata": {
        "id": "lchBllx1JpBr"
      },
      "source": [
        "the end! \n",
        "----"
      ]
    }
  ]
}